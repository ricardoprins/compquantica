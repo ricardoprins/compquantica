{
 "cells": [
  {
   "cell_type": "code",
   "execution_count": 6,
   "metadata": {},
   "outputs": [
    {
     "name": "stderr",
     "output_type": "stream",
     "text": [
      "ibmqfactory.load_account:WARNING:2020-07-30 20:21:07,330: Credentials are already in use. The existing account in the session will be replaced.\n"
     ]
    }
   ],
   "source": [
    "%matplotlib inline\n",
    "# Importando as libraries necessárias\n",
    "from qiskit import execute, BasicAer\n",
    "from qiskit import QuantumCircuit, ClassicalRegister, QuantumRegister\n",
    "from qiskit.compiler import transpile, assemble\n",
    "from qiskit.tools.jupyter import *\n",
    "from qiskit.tools.visualization import plot_histogram, circuit_drawer\n",
    "\n",
    "provider = IBMQ.load_account()"
   ]
  },
  {
   "cell_type": "markdown",
   "metadata": {},
   "source": [
    "# Praticando - Enlace quântico\n",
    "\n",
    "Para demonstrarmos o enlace quântico, usaremos 2 bits clássicos e 2 bits quânticos em um circuito quântico - este código pode ser executado tanto em um simulador ou em um computador quântico em um laboratório da IBM, por exemplo!\n",
    "\n",
    "Neste exercício, usaremos o QASM Simulator (ferramenta de simulação quântica que é executada no backend do Qiskit (se lê _quiskit_ )"
   ]
  },
  {
   "cell_type": "code",
   "execution_count": 7,
   "metadata": {},
   "outputs": [],
   "source": [
    "backend = BasicAer.get_backend('qasm_simulator')"
   ]
  },
  {
   "cell_type": "code",
   "execution_count": 8,
   "metadata": {},
   "outputs": [],
   "source": [
    "# Inicializando o circuito\n",
    "q = QuantumRegister(2)\n",
    "c = ClassicalRegister(2)\n",
    "qc = QuantumCircuit(q, c)"
   ]
  },
  {
   "cell_type": "markdown",
   "metadata": {},
   "source": [
    "# Portas quânticas\n",
    "Assim como na computação clássica nós temos as portas lógicas (AND, OR, etc.), em circuitos em computação quântica também são empregadas portas para a realização de operações. Como não é o intuito desse exercício o de explicar sobre o funcionamento das portas quânticas, o que seria consideravelmente moroso nesse momento, apenas explico superficialmente que aqui serão empregadas duas portas quânticas: *Hadamard* e *CNOT*.\n",
    "\n",
    "A primeira coloca um qubit em superposição, e a segunda servirá para demonstrar como se comportam dois qubits em enlace quântico."
   ]
  },
  {
   "cell_type": "code",
   "execution_count": 9,
   "metadata": {},
   "outputs": [],
   "source": [
    "# Porta Hadamard no bit q[0]\n",
    "qc.h(q[0])\n",
    "\n",
    "# CNOT com bit controle q[0] e bit alvo q[1]\n",
    "qc.cx(q[0], q[1])\n",
    "\n",
    "# Medição do circuito\n",
    "qc.measure(q, c)\n",
    "\n",
    "# Execução do circuito qc usando o simulador, para 2^10 'disparos'\n",
    "exec_circuito = execute(qc, backend=backend, shots=1024)"
   ]
  },
  {
   "cell_type": "markdown",
   "metadata": {},
   "source": [
    "# Visualizando os resultados\n",
    "Vamos agora observar a probabilidade dos estados 00 e 11:"
   ]
  },
  {
   "cell_type": "code",
   "execution_count": 10,
   "metadata": {},
   "outputs": [
    {
     "data": {
      "image/png": "[encoded data removed]",
      "text/plain": [
       "<Figure size 504x360 with 1 Axes>"
      ]
     },
     "execution_count": 10,
     "metadata": {},
     "output_type": "execute_result"
    }
   ],
   "source": [
    "plot_histogram(exec_circuito.result().get_counts(qc))"
   ]
  },
  {
   "cell_type": "markdown",
   "metadata": {},
   "source": [
    "# Visualizando o circuito\n",
    "Também é possível visualizar a representação gráfica de como funcionaria o circuito:"
   ]
  },
  {
   "cell_type": "code",
   "execution_count": 11,
   "metadata": {},
   "outputs": [
    {
     "data": {
      "image/png": "[encoded data removed]",
      "text/plain": [
       "<Figure size 429.828x204.68 with 1 Axes>"
      ]
     },
     "execution_count": 11,
     "metadata": {},
     "output_type": "execute_result"
    }
   ],
   "source": [
    "qc.draw()"
   ]
  }
 ],
 "metadata": {
  "kernelspec": {
   "display_name": "Python 3",
   "language": "python",
   "name": "python3"
  },
  "language_info": {
   "codemirror_mode": {
    "name": "ipython",
    "version": 3
   },
   "file_extension": ".py",
   "mimetype": "text/x-python",
   "name": "python",
   "nbconvert_exporter": "python",
   "pygments_lexer": "ipython3",
   "version": "3.7.8"
  }
 },
 "nbformat": 4,
 "nbformat_minor": 4
}
